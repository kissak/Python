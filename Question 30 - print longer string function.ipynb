{
 "cells": [
  {
   "cell_type": "markdown",
   "metadata": {},
   "source": [
    "Question 30\n",
    "Define a function that can accept two strings as input and print the string with maximum length in console. If two strings have the same length, then the function should print all strings line by line.\n"
   ]
  },
  {
   "cell_type": "code",
   "execution_count": 4,
   "metadata": {},
   "outputs": [],
   "source": [
    "def which_is_longer(str1, str2):\n",
    "    if len(str1) == len(str2):\n",
    "        print(str1)\n",
    "        print(str2)\n",
    "    elif len(str1) > len(str2):\n",
    "        print(str1)\n",
    "    elif len(str1) < len(str2):\n",
    "        print(str2)"
   ]
  },
  {
   "cell_type": "code",
   "execution_count": 5,
   "metadata": {},
   "outputs": [
    {
     "name": "stdout",
     "output_type": "stream",
     "text": [
      "asd\n",
      "qwe\n",
      "léá\n",
      "uio\n"
     ]
    }
   ],
   "source": [
    "which_is_longer(\"asd\", \"qwe\")\n",
    "which_is_longer(\"íy\", \"léá\")\n",
    "which_is_longer(\"uio\", \"úő\")"
   ]
  }
 ],
 "metadata": {
  "kernelspec": {
   "display_name": "Python 3",
   "language": "python",
   "name": "python3"
  },
  "language_info": {
   "codemirror_mode": {
    "name": "ipython",
    "version": 3
   },
   "file_extension": ".py",
   "mimetype": "text/x-python",
   "name": "python",
   "nbconvert_exporter": "python",
   "pygments_lexer": "ipython3",
   "version": "3.7.3"
  }
 },
 "nbformat": 4,
 "nbformat_minor": 2
}
