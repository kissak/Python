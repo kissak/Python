{
 "cells": [
  {
   "cell_type": "markdown",
   "metadata": {},
   "source": [
    "Question 43:\n",
    "Define a class named American which has a static method called printNationality."
   ]
  },
  {
   "cell_type": "code",
   "execution_count": 71,
   "metadata": {},
   "outputs": [],
   "source": [
    "class american():\n",
    "    c_nationality = \"American\"\n",
    "    \n",
    "    def __init__(self, p_nationality):\n",
    "        self.o_nationality = p_nationality\n",
    "    \n",
    "    def basic_print_nationality(self):\n",
    "        print(\"o: {}\".format(self.o_nationality))\n",
    "        print(\"p: {}\".format(self.c_nationality))\n",
    "        \n",
    "    @classmethod\n",
    "    def class_print_nationality(self):\n",
    "        #print(\"o: {}\".format(self.o_nationality))\n",
    "        print(\"p: {}\".format(self.c_nationality))\n",
    "    \n",
    "    @staticmethod\n",
    "    def static_print_nationality():\n",
    "        #print(\"o: {}\".format(o_nationality))\n",
    "        #print(\"p: {}\".format(c_nationality))\n",
    "        print(\"asd\")\n"
   ]
  },
  {
   "cell_type": "markdown",
   "metadata": {},
   "source": [
    "Class method\n",
    "A class method is a method which is bound to the class and not the object of the class.\n",
    "They have the access to the state of the class as it takes a class parameter that points to the class and not the object instance.\n",
    "It can modify a class state that would apply across all the instances of the class. For example it can modify a class variable that will be applicable to all the instances.\n"
   ]
  },
  {
   "cell_type": "markdown",
   "metadata": {},
   "source": [
    "Static method\n",
    "A static method is also a method which is bound to the class and not the object of the class.\n",
    "A static method can’t access or modify class state.\n",
    "It is present in a class because it makes sense for the method to be present in class."
   ]
  },
  {
   "cell_type": "code",
   "execution_count": 72,
   "metadata": {},
   "outputs": [
    {
     "name": "stdout",
     "output_type": "stream",
     "text": [
      "p: American\n",
      "asd\n"
     ]
    }
   ],
   "source": [
    "an_american = american(\"Belgian\")\n",
    "american.class_print_nationality()\n",
    "american.static_print_nationality()"
   ]
  },
  {
   "cell_type": "code",
   "execution_count": 73,
   "metadata": {},
   "outputs": [
    {
     "name": "stdout",
     "output_type": "stream",
     "text": [
      "o: Belgian\n",
      "p: American\n"
     ]
    }
   ],
   "source": [
    "an_american.basic_print_nationality()"
   ]
  }
 ],
 "metadata": {
  "kernelspec": {
   "display_name": "Python 3",
   "language": "python",
   "name": "python3"
  },
  "language_info": {
   "codemirror_mode": {
    "name": "ipython",
    "version": 3
   },
   "file_extension": ".py",
   "mimetype": "text/x-python",
   "name": "python",
   "nbconvert_exporter": "python",
   "pygments_lexer": "ipython3",
   "version": "3.7.3"
  }
 },
 "nbformat": 4,
 "nbformat_minor": 2
}
