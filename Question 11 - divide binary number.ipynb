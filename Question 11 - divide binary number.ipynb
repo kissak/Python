{
 "cells": [
  {
   "cell_type": "markdown",
   "metadata": {},
   "source": [
    "Question 11:\n",
    "\n",
    "Write a program which accepts a sequence of comma separated 4 digit binary numbers as its input and then check whether they are divisible by 5 or not. The numbers that are divisible by 5 are to be printed in a comma separated sequence.\n",
    "\n",
    "Example: 0100,0011,1010,1001\n",
    "Then the output should be: 1010"
   ]
  },
  {
   "cell_type": "code",
   "execution_count": 1,
   "metadata": {},
   "outputs": [],
   "source": [
    "input_text = \"init\"\n",
    "divisible_by = 5\n",
    "list_of_binaries = []\n",
    "output = []"
   ]
  },
  {
   "cell_type": "code",
   "execution_count": 2,
   "metadata": {},
   "outputs": [
    {
     "name": "stdout",
     "output_type": "stream",
     "text": [
      "prompt101\n",
      "prompt1100\n",
      "prompt1111\n",
      "prompt11\n",
      "prompt\n"
     ]
    }
   ],
   "source": [
    "while input_text:\n",
    "    input_text = input(\"prompt\")\n",
    "    \n",
    "    if input_text:\n",
    "        list_of_binaries.append(input_text)"
   ]
  },
  {
   "cell_type": "code",
   "execution_count": 3,
   "metadata": {},
   "outputs": [
    {
     "name": "stdout",
     "output_type": "stream",
     "text": [
      "101, 1100, 1111, 11\n"
     ]
    }
   ],
   "source": [
    "print(\", \".join(list_of_binaries))"
   ]
  },
  {
   "cell_type": "code",
   "execution_count": 4,
   "metadata": {},
   "outputs": [],
   "source": [
    "upper_limit = len(list_of_binaries)\n",
    "\n",
    "for i in range(upper_limit):\n",
    "    \n",
    "    if int(list_of_binaries[i], 2) % divisible_by == 0:\n",
    "        output.append(list_of_binaries[i])\n",
    "      "
   ]
  },
  {
   "cell_type": "code",
   "execution_count": 5,
   "metadata": {},
   "outputs": [
    {
     "name": "stdout",
     "output_type": "stream",
     "text": [
      "101, 1111\n"
     ]
    }
   ],
   "source": [
    "print(\", \".join(output))"
   ]
  },
  {
   "cell_type": "code",
   "execution_count": null,
   "metadata": {},
   "outputs": [],
   "source": []
  }
 ],
 "metadata": {
  "kernelspec": {
   "display_name": "Python 3",
   "language": "python",
   "name": "python3"
  },
  "language_info": {
   "codemirror_mode": {
    "name": "ipython",
    "version": 3
   },
   "file_extension": ".py",
   "mimetype": "text/x-python",
   "name": "python",
   "nbconvert_exporter": "python",
   "pygments_lexer": "ipython3",
   "version": "3.7.3"
  }
 },
 "nbformat": 4,
 "nbformat_minor": 2
}
