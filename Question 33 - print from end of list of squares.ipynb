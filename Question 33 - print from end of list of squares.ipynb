{
 "cells": [
  {
   "cell_type": "markdown",
   "metadata": {},
   "source": [
    "Question 34\n",
    "Define a function which can generate a list where the values are square of numbers between 1 and 20 (both included). Then the function needs to print the first 5 elements in the list."
   ]
  },
  {
   "cell_type": "code",
   "execution_count": 21,
   "metadata": {},
   "outputs": [],
   "source": [
    "lower_limit = 1\n",
    "upper_limit = 20\n",
    "power = 2\n",
    "counter_show = 5"
   ]
  },
  {
   "cell_type": "code",
   "execution_count": 24,
   "metadata": {},
   "outputs": [],
   "source": [
    "def my_function():\n",
    "    my_list = [x ** power for x in range(lower_limit, upper_limit + 1)]\n",
    "    \n",
    "    print(type(my_list))\n",
    "    \n",
    "    for i in (range(counter_show)):\n",
    "        print(my_list[i])\n",
    "    \n",
    "    for i in range(len(my_list) - 1, len(my_list) - 1 - counter_show, -1):\n",
    "        print(my_list[i])"
   ]
  },
  {
   "cell_type": "code",
   "execution_count": 25,
   "metadata": {},
   "outputs": [
    {
     "name": "stdout",
     "output_type": "stream",
     "text": [
      "<class 'list'>\n",
      "1\n",
      "4\n",
      "9\n",
      "16\n",
      "25\n",
      "400\n",
      "361\n",
      "324\n",
      "289\n",
      "256\n"
     ]
    }
   ],
   "source": [
    "my_function()"
   ]
  }
 ],
 "metadata": {
  "kernelspec": {
   "display_name": "Python 3",
   "language": "python",
   "name": "python3"
  },
  "language_info": {
   "codemirror_mode": {
    "name": "ipython",
    "version": 3
   },
   "file_extension": ".py",
   "mimetype": "text/x-python",
   "name": "python",
   "nbconvert_exporter": "python",
   "pygments_lexer": "ipython3",
   "version": "3.7.3"
  }
 },
 "nbformat": 4,
 "nbformat_minor": 2
}
