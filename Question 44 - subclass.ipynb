{
 "cells": [
  {
   "cell_type": "markdown",
   "metadata": {},
   "source": [
    "Question 44\n",
    "Define a class named American and its subclass NewYorker. "
   ]
  },
  {
   "cell_type": "code",
   "execution_count": 16,
   "metadata": {},
   "outputs": [],
   "source": [
    "class american():\n",
    "    nationality = \"american\"\n",
    "    city = \"washington\"\n",
    "    \n",
    "    @classmethod\n",
    "    def print_to_screen(self):\n",
    "        print(self.city)"
   ]
  },
  {
   "cell_type": "code",
   "execution_count": 19,
   "metadata": {},
   "outputs": [],
   "source": [
    "class new_yorker(american):\n",
    "    city = \"new york\"\n",
    "    street = \"kossuth utca\""
   ]
  },
  {
   "cell_type": "code",
   "execution_count": 21,
   "metadata": {},
   "outputs": [
    {
     "name": "stdout",
     "output_type": "stream",
     "text": [
      "washington\n",
      "new york\n",
      "american\n",
      "washington\n",
      "new york\n"
     ]
    }
   ],
   "source": [
    "print(american.city)\n",
    "print(new_yorker.city)\n",
    "print(new_yorker.nationality)\n",
    "\n",
    "american.print_to_screen()\n",
    "new_yorker.print_to_screen()"
   ]
  }
 ],
 "metadata": {
  "kernelspec": {
   "display_name": "Python 3",
   "language": "python",
   "name": "python3"
  },
  "language_info": {
   "codemirror_mode": {
    "name": "ipython",
    "version": 3
   },
   "file_extension": ".py",
   "mimetype": "text/x-python",
   "name": "python",
   "nbconvert_exporter": "python",
   "pygments_lexer": "ipython3",
   "version": "3.7.3"
  }
 },
 "nbformat": 4,
 "nbformat_minor": 2
}
