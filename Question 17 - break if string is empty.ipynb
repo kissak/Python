{
 "cells": [
  {
   "cell_type": "markdown",
   "metadata": {},
   "source": [
    "Question 17\n",
    "\n",
    "Write a program that computes the net amount of a bank account based a transaction log from console input. The transaction log format is shown as following:\n",
    "D 100\n",
    "W 200\n",
    "\n",
    "D means deposit while W means withdrawal.\n",
    "Suppose the following input is supplied to the program:\n",
    "D 300\n",
    "D 300\n",
    "W 200\n",
    "D 100\n",
    "Then, the output should be:\n",
    "500"
   ]
  },
  {
   "cell_type": "code",
   "execution_count": 4,
   "metadata": {},
   "outputs": [
    {
     "name": "stdout",
     "output_type": "stream",
     "text": [
      "promptD 300\n",
      "promptD 300\n",
      "promptW 200\n",
      "promptD 100\n",
      "prompt\n",
      "500\n"
     ]
    }
   ],
   "source": [
    "balance = 0\n",
    "\n",
    "while True:\n",
    "    values = input(\"prompt\")\n",
    "    \n",
    "    if not values:\n",
    "        break\n",
    "   \n",
    "    transaction_type, transaction_value = values.split(\" \")\n",
    "    \n",
    "    if transaction_type == \"D\":\n",
    "        multiplicator = 1\n",
    "    elif transaction_type == \"W\":\n",
    "        multiplicator = -1\n",
    "    \n",
    "    balance += multiplicator * int(transaction_value)\n",
    "\n",
    "print(balance)"
   ]
  },
  {
   "cell_type": "code",
   "execution_count": null,
   "metadata": {},
   "outputs": [],
   "source": []
  }
 ],
 "metadata": {
  "kernelspec": {
   "display_name": "Python 3",
   "language": "python",
   "name": "python3"
  },
  "language_info": {
   "codemirror_mode": {
    "name": "ipython",
    "version": 3
   },
   "file_extension": ".py",
   "mimetype": "text/x-python",
   "name": "python",
   "nbconvert_exporter": "python",
   "pygments_lexer": "ipython3",
   "version": "3.7.3"
  }
 },
 "nbformat": 4,
 "nbformat_minor": 2
}
