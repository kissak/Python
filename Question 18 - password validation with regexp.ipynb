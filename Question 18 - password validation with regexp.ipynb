{
 "cells": [
  {
   "cell_type": "markdown",
   "metadata": {},
   "source": [
    "Question 18\n",
    "\n",
    "A website requires the users to input username and password to register. Write a program to check the validity of password input by users.\n",
    "Following are the criteria for checking the password:\n",
    "1. At least 1 letter between [a-z]\n",
    "2. At least 1 number between [0-9]\n",
    "1. At least 1 letter between [A-Z]\n",
    "3. At least 1 character from [$#@]\n",
    "4. Minimum length of transaction password: 6\n",
    "5. Maximum length of transaction password: 12\n",
    "Your program should accept a sequence of comma separated passwords and will check them according to the above criteria. Passwords that match the criteria are to be printed, each separated by a comma.\n",
    "Example\n",
    "If the following passwords are given as input to the program:\n",
    "ABd1234@1,a F1#,2w3E*,2We3345\n",
    "Then, the output of the program should be:\n",
    "ABd1234@1"
   ]
  },
  {
   "cell_type": "code",
   "execution_count": 1,
   "metadata": {},
   "outputs": [],
   "source": [
    "import re"
   ]
  },
  {
   "cell_type": "code",
   "execution_count": 2,
   "metadata": {},
   "outputs": [
    {
     "name": "stdout",
     "output_type": "stream",
     "text": [
      "promptABd1234@1\n",
      "prompta F1#\n",
      "prompt2w3E*\n",
      "prompt2We3345\n",
      "prompt\n"
     ]
    }
   ],
   "source": [
    "passwords = []\n",
    "\n",
    "while True:\n",
    "    \n",
    "    console = input(\"prompt\")\n",
    "    \n",
    "    if console:\n",
    "        passwords.append(console)\n",
    "    else:\n",
    "        break\n",
    "        \n"
   ]
  },
  {
   "cell_type": "code",
   "execution_count": 3,
   "metadata": {},
   "outputs": [
    {
     "name": "stdout",
     "output_type": "stream",
     "text": [
      "ABd1234@1\n",
      "[a-z]\n",
      "[0-9]\n",
      "[A-Z]\n",
      "[$#@]\n",
      "a F1#\n",
      "2w3E*\n",
      "2We3345\n",
      "[a-z]\n",
      "[0-9]\n",
      "[A-Z]\n",
      "[$#@]\n"
     ]
    }
   ],
   "source": [
    "min_length = 6\n",
    "max_length = 12\n",
    "good_passwords = []\n",
    "patterns = [\"[a-z]\", \"[0-9]\", \"[A-Z]\", \"[$#@]\"]\n",
    "\n",
    "for each_pw in passwords:\n",
    "    print(each_pw)\n",
    "    if len(each_pw) < min_length or len(each_pw) > max_length:\n",
    "        continue\n",
    "    else:\n",
    "        for i in range(len(patterns)):\n",
    "            print(patterns[i])\n",
    "            if not re.search(patterns[i], each_pw):\n",
    "                break\n",
    "        \n",
    "            if i + 1 == len(patterns):\n",
    "                good_passwords.append(each_pw)\n",
    "        \n",
    "        \n",
    "        "
   ]
  },
  {
   "cell_type": "code",
   "execution_count": 4,
   "metadata": {},
   "outputs": [
    {
     "name": "stdout",
     "output_type": "stream",
     "text": [
      "ABd1234@1\n"
     ]
    }
   ],
   "source": [
    "print(\",\".join(good_passwords))"
   ]
  },
  {
   "cell_type": "code",
   "execution_count": null,
   "metadata": {},
   "outputs": [],
   "source": []
  }
 ],
 "metadata": {
  "kernelspec": {
   "display_name": "Python 3",
   "language": "python",
   "name": "python3"
  },
  "language_info": {
   "codemirror_mode": {
    "name": "ipython",
    "version": 3
   },
   "file_extension": ".py",
   "mimetype": "text/x-python",
   "name": "python",
   "nbconvert_exporter": "python",
   "pygments_lexer": "ipython3",
   "version": "3.7.3"
  }
 },
 "nbformat": 4,
 "nbformat_minor": 2
}
